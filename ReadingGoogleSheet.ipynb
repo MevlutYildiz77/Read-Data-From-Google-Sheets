{
  "cells": [
    {
      "cell_type": "code",
      "execution_count": 26,
      "metadata": {
        "id": "tkWZaj_ZLiim"
      },
      "outputs": [],
      "source": [
        "from google.colab  import auth\n",
        "auth.authenticate_user()\n",
        "import requests\n",
        "import gspread\n",
        "from oauth2client.client import GoogleCredentials"
      ]
    },
    {
      "cell_type": "code",
      "execution_count": 27,
      "metadata": {
        "id": "UAzKTfJxLiio"
      },
      "outputs": [],
      "source": [
        "#gc = gspread.authorize(GoogleCredentials.get_application_default())"
      ]
    },
    {
      "cell_type": "code",
      "source": [
        "from google.colab import auth\n",
        "auth.authenticate_user()\n",
        "\n",
        "import gspread\n",
        "from google.auth import default\n",
        "creds, _ = default()\n",
        "\n",
        "gc = gspread.authorize(creds)"
      ],
      "metadata": {
        "id": "DuY2FW71Mf_i"
      },
      "execution_count": 28,
      "outputs": []
    },
    {
      "cell_type": "code",
      "execution_count": 29,
      "metadata": {
        "id": "zd7RKNfLLiio"
      },
      "outputs": [],
      "source": [
        "import pandas as pd\n"
      ]
    },
    {
      "cell_type": "code",
      "execution_count": 30,
      "metadata": {
        "id": "sK84gu-9Liip"
      },
      "outputs": [],
      "source": [
        "sheetname = \"ilm-i sima\""
      ]
    },
    {
      "cell_type": "code",
      "execution_count": 31,
      "metadata": {
        "colab": {
          "base_uri": "https://localhost:8080/"
        },
        "id": "VCQ7K9auLiiq",
        "outputId": "a0cfe3ff-1354-491f-ca69-f54c785ffb96"
      },
      "outputs": [
        {
          "output_type": "execute_result",
          "data": {
            "text/plain": [
              "<Spreadsheet 'ilm-i sima' id:1D6MWDDvkfcxEwRVvQEoVjCb7CC84sPRjpEVWUjJA9l0>"
            ]
          },
          "metadata": {},
          "execution_count": 31
        }
      ],
      "source": [
        "sh = gc.open(sheetname)\n",
        "sh"
      ]
    },
    {
      "cell_type": "code",
      "execution_count": 32,
      "metadata": {
        "colab": {
          "base_uri": "https://localhost:8080/",
          "height": 337
        },
        "id": "R_26ZjM5Liiq",
        "outputId": "7f1487cf-050b-4f09-8f3c-0a4b163caad5"
      },
      "outputs": [
        {
          "output_type": "execute_result",
          "data": {
            "text/plain": [
              "       0     1                          2                             3   \\\n",
              "0    Kişi  ALIN                        KAŞ                          GÖZ    \n",
              "1  Mevlüt   Düz  Kalın ve Çok Tüylü Kaşlar  Az Görülebilen Göz Kapakları   \n",
              "2  cEMİLE   Düz  Kalın ve Çok Tüylü Kaşlar  Az Görülebilen Göz Kapakları   \n",
              "3           Düz  Kalın ve Çok Tüylü Kaşlar  Az Görülebilen Göz Kapakları   \n",
              "4           Düz  Kalın ve Çok Tüylü Kaşlar  Az Görülebilen Göz Kapakları   \n",
              "\n",
              "                        4                              5         6         7   \\\n",
              "0                    BURUN                       KULAKLAR  KULAKLAR  YANAKLAR   \n",
              "1  Yüze Oranla Büyük Burun  Kap ve Çıkıntı Arası Belirgin                       \n",
              "2  Yüze Oranla Büyük Burun  Kap ve Çıkıntı Arası Belirgin                       \n",
              "3  Yüze Oranla Büyük Burun  Kap ve Çıkıntı Arası Belirgin                       \n",
              "4  Yüze Oranla Büyük Burun  Kap ve Çıkıntı Arası Belirgin                       \n",
              "\n",
              "      8       9          10    11                         12             13  \\\n",
              "0  AĞIZ   DİŞLER  GÜLÜMSEME  ÇENE  GAMZELER VE YÜZ ÇİZGİLERİ  YÜZ ŞEKİLLERİ   \n",
              "1                                                                             \n",
              "2                                                                             \n",
              "3                                                                             \n",
              "4                                                                             \n",
              "\n",
              "            14  \n",
              "0  BAŞ TİPLERİ  \n",
              "1               \n",
              "2               \n",
              "3               \n",
              "4               "
            ],
            "text/html": [
              "\n",
              "  <div id=\"df-583a03ef-f34d-4376-8923-23d6f428d3b0\">\n",
              "    <div class=\"colab-df-container\">\n",
              "      <div>\n",
              "<style scoped>\n",
              "    .dataframe tbody tr th:only-of-type {\n",
              "        vertical-align: middle;\n",
              "    }\n",
              "\n",
              "    .dataframe tbody tr th {\n",
              "        vertical-align: top;\n",
              "    }\n",
              "\n",
              "    .dataframe thead th {\n",
              "        text-align: right;\n",
              "    }\n",
              "</style>\n",
              "<table border=\"1\" class=\"dataframe\">\n",
              "  <thead>\n",
              "    <tr style=\"text-align: right;\">\n",
              "      <th></th>\n",
              "      <th>0</th>\n",
              "      <th>1</th>\n",
              "      <th>2</th>\n",
              "      <th>3</th>\n",
              "      <th>4</th>\n",
              "      <th>5</th>\n",
              "      <th>6</th>\n",
              "      <th>7</th>\n",
              "      <th>8</th>\n",
              "      <th>9</th>\n",
              "      <th>10</th>\n",
              "      <th>11</th>\n",
              "      <th>12</th>\n",
              "      <th>13</th>\n",
              "      <th>14</th>\n",
              "    </tr>\n",
              "  </thead>\n",
              "  <tbody>\n",
              "    <tr>\n",
              "      <th>0</th>\n",
              "      <td>Kişi</td>\n",
              "      <td>ALIN</td>\n",
              "      <td>KAŞ</td>\n",
              "      <td>GÖZ</td>\n",
              "      <td>BURUN</td>\n",
              "      <td>KULAKLAR</td>\n",
              "      <td>KULAKLAR</td>\n",
              "      <td>YANAKLAR</td>\n",
              "      <td>AĞIZ</td>\n",
              "      <td>DİŞLER</td>\n",
              "      <td>GÜLÜMSEME</td>\n",
              "      <td>ÇENE</td>\n",
              "      <td>GAMZELER VE YÜZ ÇİZGİLERİ</td>\n",
              "      <td>YÜZ ŞEKİLLERİ</td>\n",
              "      <td>BAŞ TİPLERİ</td>\n",
              "    </tr>\n",
              "    <tr>\n",
              "      <th>1</th>\n",
              "      <td>Mevlüt</td>\n",
              "      <td>Düz</td>\n",
              "      <td>Kalın ve Çok Tüylü Kaşlar</td>\n",
              "      <td>Az Görülebilen Göz Kapakları</td>\n",
              "      <td>Yüze Oranla Büyük Burun</td>\n",
              "      <td>Kap ve Çıkıntı Arası Belirgin</td>\n",
              "      <td></td>\n",
              "      <td></td>\n",
              "      <td></td>\n",
              "      <td></td>\n",
              "      <td></td>\n",
              "      <td></td>\n",
              "      <td></td>\n",
              "      <td></td>\n",
              "      <td></td>\n",
              "    </tr>\n",
              "    <tr>\n",
              "      <th>2</th>\n",
              "      <td>cEMİLE</td>\n",
              "      <td>Düz</td>\n",
              "      <td>Kalın ve Çok Tüylü Kaşlar</td>\n",
              "      <td>Az Görülebilen Göz Kapakları</td>\n",
              "      <td>Yüze Oranla Büyük Burun</td>\n",
              "      <td>Kap ve Çıkıntı Arası Belirgin</td>\n",
              "      <td></td>\n",
              "      <td></td>\n",
              "      <td></td>\n",
              "      <td></td>\n",
              "      <td></td>\n",
              "      <td></td>\n",
              "      <td></td>\n",
              "      <td></td>\n",
              "      <td></td>\n",
              "    </tr>\n",
              "    <tr>\n",
              "      <th>3</th>\n",
              "      <td></td>\n",
              "      <td>Düz</td>\n",
              "      <td>Kalın ve Çok Tüylü Kaşlar</td>\n",
              "      <td>Az Görülebilen Göz Kapakları</td>\n",
              "      <td>Yüze Oranla Büyük Burun</td>\n",
              "      <td>Kap ve Çıkıntı Arası Belirgin</td>\n",
              "      <td></td>\n",
              "      <td></td>\n",
              "      <td></td>\n",
              "      <td></td>\n",
              "      <td></td>\n",
              "      <td></td>\n",
              "      <td></td>\n",
              "      <td></td>\n",
              "      <td></td>\n",
              "    </tr>\n",
              "    <tr>\n",
              "      <th>4</th>\n",
              "      <td></td>\n",
              "      <td>Düz</td>\n",
              "      <td>Kalın ve Çok Tüylü Kaşlar</td>\n",
              "      <td>Az Görülebilen Göz Kapakları</td>\n",
              "      <td>Yüze Oranla Büyük Burun</td>\n",
              "      <td>Kap ve Çıkıntı Arası Belirgin</td>\n",
              "      <td></td>\n",
              "      <td></td>\n",
              "      <td></td>\n",
              "      <td></td>\n",
              "      <td></td>\n",
              "      <td></td>\n",
              "      <td></td>\n",
              "      <td></td>\n",
              "      <td></td>\n",
              "    </tr>\n",
              "  </tbody>\n",
              "</table>\n",
              "</div>\n",
              "      <button class=\"colab-df-convert\" onclick=\"convertToInteractive('df-583a03ef-f34d-4376-8923-23d6f428d3b0')\"\n",
              "              title=\"Convert this dataframe to an interactive table.\"\n",
              "              style=\"display:none;\">\n",
              "        \n",
              "  <svg xmlns=\"http://www.w3.org/2000/svg\" height=\"24px\"viewBox=\"0 0 24 24\"\n",
              "       width=\"24px\">\n",
              "    <path d=\"M0 0h24v24H0V0z\" fill=\"none\"/>\n",
              "    <path d=\"M18.56 5.44l.94 2.06.94-2.06 2.06-.94-2.06-.94-.94-2.06-.94 2.06-2.06.94zm-11 1L8.5 8.5l.94-2.06 2.06-.94-2.06-.94L8.5 2.5l-.94 2.06-2.06.94zm10 10l.94 2.06.94-2.06 2.06-.94-2.06-.94-.94-2.06-.94 2.06-2.06.94z\"/><path d=\"M17.41 7.96l-1.37-1.37c-.4-.4-.92-.59-1.43-.59-.52 0-1.04.2-1.43.59L10.3 9.45l-7.72 7.72c-.78.78-.78 2.05 0 2.83L4 21.41c.39.39.9.59 1.41.59.51 0 1.02-.2 1.41-.59l7.78-7.78 2.81-2.81c.8-.78.8-2.07 0-2.86zM5.41 20L4 18.59l7.72-7.72 1.47 1.35L5.41 20z\"/>\n",
              "  </svg>\n",
              "      </button>\n",
              "      \n",
              "  <style>\n",
              "    .colab-df-container {\n",
              "      display:flex;\n",
              "      flex-wrap:wrap;\n",
              "      gap: 12px;\n",
              "    }\n",
              "\n",
              "    .colab-df-convert {\n",
              "      background-color: #E8F0FE;\n",
              "      border: none;\n",
              "      border-radius: 50%;\n",
              "      cursor: pointer;\n",
              "      display: none;\n",
              "      fill: #1967D2;\n",
              "      height: 32px;\n",
              "      padding: 0 0 0 0;\n",
              "      width: 32px;\n",
              "    }\n",
              "\n",
              "    .colab-df-convert:hover {\n",
              "      background-color: #E2EBFA;\n",
              "      box-shadow: 0px 1px 2px rgba(60, 64, 67, 0.3), 0px 1px 3px 1px rgba(60, 64, 67, 0.15);\n",
              "      fill: #174EA6;\n",
              "    }\n",
              "\n",
              "    [theme=dark] .colab-df-convert {\n",
              "      background-color: #3B4455;\n",
              "      fill: #D2E3FC;\n",
              "    }\n",
              "\n",
              "    [theme=dark] .colab-df-convert:hover {\n",
              "      background-color: #434B5C;\n",
              "      box-shadow: 0px 1px 3px 1px rgba(0, 0, 0, 0.15);\n",
              "      filter: drop-shadow(0px 1px 2px rgba(0, 0, 0, 0.3));\n",
              "      fill: #FFFFFF;\n",
              "    }\n",
              "  </style>\n",
              "\n",
              "      <script>\n",
              "        const buttonEl =\n",
              "          document.querySelector('#df-583a03ef-f34d-4376-8923-23d6f428d3b0 button.colab-df-convert');\n",
              "        buttonEl.style.display =\n",
              "          google.colab.kernel.accessAllowed ? 'block' : 'none';\n",
              "\n",
              "        async function convertToInteractive(key) {\n",
              "          const element = document.querySelector('#df-583a03ef-f34d-4376-8923-23d6f428d3b0');\n",
              "          const dataTable =\n",
              "            await google.colab.kernel.invokeFunction('convertToInteractive',\n",
              "                                                     [key], {});\n",
              "          if (!dataTable) return;\n",
              "\n",
              "          const docLinkHtml = 'Like what you see? Visit the ' +\n",
              "            '<a target=\"_blank\" href=https://colab.research.google.com/notebooks/data_table.ipynb>data table notebook</a>'\n",
              "            + ' to learn more about interactive tables.';\n",
              "          element.innerHTML = '';\n",
              "          dataTable['output_type'] = 'display_data';\n",
              "          await google.colab.output.renderOutput(dataTable, element);\n",
              "          const docLink = document.createElement('div');\n",
              "          docLink.innerHTML = docLinkHtml;\n",
              "          element.appendChild(docLink);\n",
              "        }\n",
              "      </script>\n",
              "    </div>\n",
              "  </div>\n",
              "  "
            ]
          },
          "metadata": {},
          "execution_count": 32
        }
      ],
      "source": [
        "worksheet = sh.sheet1\n",
        "values_list = workshhet.get_all_values()\n",
        "df = pd.DataFrame(values_list)\n",
        "df.head()"
      ]
    },
    {
      "cell_type": "code",
      "source": [
        "worksheet1 = sh.sheet4\n",
        "values_list1 = worksheet1.get_all_values()\n",
        "df1 = pd.DataFrame(values_list1)\n",
        "df1.head()"
      ],
      "metadata": {
        "colab": {
          "base_uri": "https://localhost:8080/",
          "height": 217
        },
        "id": "TMdt_PC2NQGu",
        "outputId": "b901b677-2b9d-4d5f-8005-04ffac647764"
      },
      "execution_count": 36,
      "outputs": [
        {
          "output_type": "error",
          "ename": "AttributeError",
          "evalue": "ignored",
          "traceback": [
            "\u001b[0;31m---------------------------------------------------------------------------\u001b[0m",
            "\u001b[0;31mAttributeError\u001b[0m                            Traceback (most recent call last)",
            "\u001b[0;32m<ipython-input-36-ad74e88f7919>\u001b[0m in \u001b[0;36m<module>\u001b[0;34m\u001b[0m\n\u001b[0;32m----> 1\u001b[0;31m \u001b[0mworksheet1\u001b[0m \u001b[0;34m=\u001b[0m \u001b[0msh\u001b[0m\u001b[0;34m.\u001b[0m\u001b[0msheet4\u001b[0m\u001b[0;34m\u001b[0m\u001b[0;34m\u001b[0m\u001b[0m\n\u001b[0m\u001b[1;32m      2\u001b[0m \u001b[0mvalues_list1\u001b[0m \u001b[0;34m=\u001b[0m \u001b[0mworksheet1\u001b[0m\u001b[0;34m.\u001b[0m\u001b[0mget_all_values\u001b[0m\u001b[0;34m(\u001b[0m\u001b[0;34m)\u001b[0m\u001b[0;34m\u001b[0m\u001b[0;34m\u001b[0m\u001b[0m\n\u001b[1;32m      3\u001b[0m \u001b[0mdf1\u001b[0m \u001b[0;34m=\u001b[0m \u001b[0mpd\u001b[0m\u001b[0;34m.\u001b[0m\u001b[0mDataFrame\u001b[0m\u001b[0;34m(\u001b[0m\u001b[0mvalues_list1\u001b[0m\u001b[0;34m)\u001b[0m\u001b[0;34m\u001b[0m\u001b[0;34m\u001b[0m\u001b[0m\n\u001b[1;32m      4\u001b[0m \u001b[0mdf1\u001b[0m\u001b[0;34m.\u001b[0m\u001b[0mhead\u001b[0m\u001b[0;34m(\u001b[0m\u001b[0;34m)\u001b[0m\u001b[0;34m\u001b[0m\u001b[0;34m\u001b[0m\u001b[0m\n",
            "\u001b[0;31mAttributeError\u001b[0m: 'Spreadsheet' object has no attribute 'sheet4'"
          ]
        }
      ]
    }
  ],
  "metadata": {
    "kernelspec": {
      "display_name": "pythonProject",
      "language": "python",
      "name": "python3"
    },
    "language_info": {
      "codemirror_mode": {
        "name": "ipython",
        "version": 3
      },
      "file_extension": ".py",
      "mimetype": "text/x-python",
      "name": "python",
      "nbconvert_exporter": "python",
      "pygments_lexer": "ipython3",
      "version": "3.9.12"
    },
    "orig_nbformat": 4,
    "colab": {
      "provenance": []
    }
  },
  "nbformat": 4,
  "nbformat_minor": 0
}